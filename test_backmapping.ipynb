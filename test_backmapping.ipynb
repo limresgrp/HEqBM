{
 "cells": [
  {
   "cell_type": "code",
   "execution_count": null,
   "metadata": {},
   "outputs": [],
   "source": [
    "%reload_ext autoreload\n",
    "%autoreload 2"
   ]
  },
  {
   "cell_type": "code",
   "execution_count": null,
   "metadata": {},
   "outputs": [],
   "source": [
    "import torch\n",
    "from heqbm.utils.pdbFixer import joinPDBs\n",
    "from heqbm.backmapping.hierarchical_backmapping import HierarchicalBackmapping\n",
    "\n",
    "torch.set_default_dtype(torch.float32)"
   ]
  },
  {
   "cell_type": "code",
   "execution_count": null,
   "metadata": {},
   "outputs": [],
   "source": [
    "args_dict = {\n",
    "    # \"config\": \"config/backmapping/PDB6K-martini3-bbcommon-geqmodel.yaml\",\n",
    "    # \"config\": \"config/backmapping/PDB6K-CA-geqmodel.yaml\",\n",
    "    # \"config\": \"config/backmapping/MEM-martini3-geqmodel.yaml\",\n",
    "    \"config\": \"config/backmapping/A2A-martini3-geqmodel.yaml\",\n",
    "    \"device\": \"cuda:1\",\n",
    "    \"isatomistic\": True,\n",
    "}\n",
    "args_dict = {\n",
    "    \"mapping\": \"zma\",\n",
    "\n",
    "    \"input\": \"/storage_common/angiod/A2A/Omar/prot_zma.gro\",\n",
    "    \"inputtraj\": \"/storage_common/angiod/A2A/Omar/md_all_prot_mol.xtc\",\n",
    "    \"trajslice\": \"3000:3001\",\n",
    "\n",
    "    \"selection\": \"resname ZMA\",\n",
    "\n",
    "    \"output\": \"backmapped/ZMA/atomistic/\",\n",
    "\n",
    "    \"model\": \"config/training/ZMA-geqmodel.yaml\",\n",
    "    \"modelweights\": \"best_model.pth\",\n",
    "    \"isatomistic\": True,\n",
    "}\n",
    "# args_dict = {\n",
    "#     \"mapping\": \"zma\",\n",
    "\n",
    "#     \"input\": \"/storage_common/angiod/A2A/Vince/11-blyr.pdb\",\n",
    "#     # \"inputtraj\": \"/storage_common/angiod/A2A/Vince/11-blyr.gro\",\n",
    "#     \"trajslice\": \"480:481\",\n",
    "\n",
    "#     \"selection\": \"resname ZMA\",\n",
    "\n",
    "#     \"output\": \"backmapped/ZMA/CG/\",\n",
    "\n",
    "#     \"model\": \"config/training/ZMA-geqmodel.yaml\",\n",
    "#     \"modelweights\": \"best_model.pth\",\n",
    "#     \"isatomistic\": False,\n",
    "# }\n",
    "# args_dict = {\n",
    "#     \"mapping\": \"martini3\",\n",
    "\n",
    "#     \"input\": \"/storage_common/angiod/A2A/Vince/11-blyr.pdb\",\n",
    "#     # \"inputtraj\": \"/storage_common/angiod/A2A/Vince/11-blyr.gro\",\n",
    "#     \"trajslice\": \":1\",\n",
    "\n",
    "#     \"selection\": \"protein\",\n",
    "\n",
    "#     \"output\": \"backmapped/A2A/CG/\",\n",
    "\n",
    "#     \"model\": \"config/training/A2A-martini3-bbcommon-geqmodel.yaml\",\n",
    "#     \"modelweights\": \"best_model.pth\",\n",
    "#     \"isatomistic\": False,\n",
    "# }\n",
    "backmapping = HierarchicalBackmapping(args_dict=args_dict)"
   ]
  },
  {
   "cell_type": "code",
   "execution_count": null,
   "metadata": {},
   "outputs": [],
   "source": [
    "backmapped_filenames, backmapped_minimised_filenames, true_filenames, cg_filenames = [], [], [], []\n",
    "for mapping in backmapping.map():\n",
    "    _backmapped_filenames, _backmapped_minimised_filenames, _true_filenames, _cg_filenames = backmapping.backmap(mapping, optimise_backbone=False)\n",
    "    backmapped_filenames.extend(_backmapped_filenames)\n",
    "    backmapped_minimised_filenames.extend(_backmapped_minimised_filenames)\n",
    "    true_filenames.extend(_true_filenames)\n",
    "    cg_filenames.extend(_cg_filenames)\n",
    "\n",
    "for tag in ['backmapped']:\n",
    "    joinPDBs(backmapping.config.get(\"output\"), tag)"
   ]
  },
  {
   "cell_type": "code",
   "execution_count": null,
   "metadata": {},
   "outputs": [],
   "source": [
    "import MDAnalysis as mda\n",
    "from MDAnalysis.analysis import align, rms\n",
    "\n",
    "def show(backmapped_filenames, cg_filenames, true_filenames):\n",
    "    backmapped_u = mda.Universe(*backmapped_filenames)\n",
    "    cg_u = mda.Universe(*cg_filenames)\n",
    "    # backmapped_minimised_u = mda.Universe(*backmapped_minimised_filenames)\n",
    "\n",
    "    ref_u = None\n",
    "    if len(true_filenames) > 0:\n",
    "        ref_u = mda.Universe(*true_filenames)\n",
    "\n",
    "        # aligner = align.AlignTraj(\n",
    "        #             backmapped_u,  # mobile\n",
    "        #             ref_u,         # reference\n",
    "        #             select='all', # selection to operate on\n",
    "        #             in_memory=True,\n",
    "        #             match_atoms=True,\n",
    "        #         ).run()\n",
    "        # aligned_rmsd = rms.rmsd(backmapped_u.atoms.positions, ref_u.atoms.positions, superposition=False)\n",
    "        # print(aligned_rmsd)\n",
    "    \n",
    "    from nglview import NGLWidget\n",
    "    w = NGLWidget(representations=None)\n",
    "    w._remove_representation()\n",
    "    w.add_trajectory(cg_u)\n",
    "    w.add_trajectory(backmapped_u)\n",
    "    # w.add_trajectory(backmapped_minimised_u)\n",
    "    # if ref_u is not None:\n",
    "    #     w.add_trajectory(ref_u)\n",
    "    \n",
    "    # w.add_representation('spacefill', radius=.5, selection='.RE .BB', color='pink')\n",
    "    # w.add_representation('spacefill', radius=.5, selection='.SC1 .SC2 .SC3 .SC4 .SC5', color='yellow')\n",
    "    w.add_representation('spacefill', radius=.5, selection='not (_H _C _N _O)', color='pink')\n",
    "    w.add_representation('licorice',  selection='_H _C _N _O')\n",
    "    return w\n",
    "\n",
    "show(backmapped_filenames, cg_filenames, true_filenames)"
   ]
  },
  {
   "cell_type": "code",
   "execution_count": null,
   "metadata": {},
   "outputs": [],
   "source": [
    "show(backmapped_filenames, cg_filenames, true_filenames)"
   ]
  }
 ],
 "metadata": {
  "kernelspec": {
   "display_name": "prostat",
   "language": "python",
   "name": "python3"
  },
  "language_info": {
   "codemirror_mode": {
    "name": "ipython",
    "version": 3
   },
   "file_extension": ".py",
   "mimetype": "text/x-python",
   "name": "python",
   "nbconvert_exporter": "python",
   "pygments_lexer": "ipython3",
   "version": "3.10.12"
  },
  "orig_nbformat": 4,
  "vscode": {
   "interpreter": {
    "hash": "e83e13eb7a5ae82a8aeb1528983d49f46d4932259c63802e14669f17a5fcf04a"
   }
  }
 },
 "nbformat": 4,
 "nbformat_minor": 2
}
