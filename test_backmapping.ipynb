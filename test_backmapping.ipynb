{
 "cells": [
  {
   "cell_type": "code",
   "execution_count": null,
   "metadata": {},
   "outputs": [],
   "source": [
    "%reload_ext autoreload\n",
    "%autoreload 2"
   ]
  },
  {
   "cell_type": "code",
   "execution_count": null,
   "metadata": {},
   "outputs": [],
   "source": [
    "import torch\n",
    "import numpy as np\n",
    "import pandas as pd\n",
    "\n",
    "from heqbm.utils import DataDict\n",
    "from heqbm.utils.geometry import get_RMSD, get_dih_loss\n",
    "from heqbm.utils.pdbFixer import joinPDBs\n",
    "from heqbm.backmapping.hierarchical_backmapping import HierarchicalBackmapping\n",
    "\n",
    "from plotting import plot_cg_impl\n",
    "\n",
    "torch.set_default_dtype(torch.float32)"
   ]
  },
  {
   "cell_type": "code",
   "execution_count": null,
   "metadata": {},
   "outputs": [],
   "source": [
    "backmapping = HierarchicalBackmapping(config_filename=\"config/backmapping/A2A/del.yaml\")"
   ]
  },
  {
   "cell_type": "code",
   "execution_count": null,
   "metadata": {},
   "outputs": [],
   "source": [
    "plot_cg_impl(\n",
    "    dataset=backmapping.mapping.dataset,\n",
    "    frame_index=0,\n",
    "    bead_filter=None, # np.arange(0,12),\n",
    "    atom_filter=None, # np.arange(52),\n",
    "    residue_filter=None,\n",
    ")"
   ]
  },
  {
   "cell_type": "code",
   "execution_count": null,
   "metadata": {},
   "outputs": [],
   "source": [
    "for k,v in backmapping.mapping.dataset.items():\n",
    "    print(k, v.shape if isinstance(v, np.ndarray) else len(v))"
   ]
  },
  {
   "cell_type": "code",
   "execution_count": null,
   "metadata": {},
   "outputs": [],
   "source": [
    "frame_idcs = range(0, min(9999, len(backmapping.mapping.dataset[DataDict.BEAD_POSITION])))\n",
    "n_frames = max(frame_idcs) + 1\n",
    "\n",
    "rmsd_data = []\n",
    "backmapped_u = None\n",
    "for frame_index in frame_idcs:\n",
    "    backmapping_dataset = backmapping.backmap(frame_index=frame_index, optimize_backbone=True)\n",
    "\n",
    "    try:\n",
    "        # Show prediction errors, if ground truth is present #\n",
    "        data = {}\n",
    "        if DataDict.ATOM_POSITION in backmapping_dataset:\n",
    "            fltr_all = np.array([an.split('_')[1] not in [] for an in backmapping_dataset[DataDict.ATOM_NAMES]])\n",
    "            fltr_bb = np.array([an.split('_')[1] in [\"CA\", \"O\", \"C\", \"N\"] for an in backmapping_dataset[DataDict.ATOM_NAMES]])\n",
    "            data.update({\n",
    "                \"frame\": frame_index,\n",
    "                \"RMSD All\": get_RMSD(backmapping_dataset[DataDict.ATOM_POSITION_PRED], backmapping_dataset[DataDict.ATOM_POSITION], fltr=fltr_all),\n",
    "                \"RMSD BB\": get_RMSD(backmapping_dataset[DataDict.ATOM_POSITION_PRED], backmapping_dataset[DataDict.ATOM_POSITION], fltr=fltr_bb),\n",
    "            })\n",
    "        if DataDict.BB_PHIPSI in backmapping_dataset:\n",
    "            data.update({\n",
    "                \"Dih Loss\": get_dih_loss(backmapping_dataset[DataDict.BB_PHIPSI_PRED], backmapping_dataset[DataDict.BB_PHIPSI], ignore_zeroes=True),\n",
    "            })\n",
    "        rmsd_data.append(data)\n",
    "    except:\n",
    "        pass\n",
    "\n",
    "    # atom_filter = np.array([an in [\"CA\", \"C\", \"O\", \"N\"] for an in atomnames])\n",
    "    atom_filter = None\n",
    "    backmapped_u = backmapping.to_pdb(\n",
    "        backmapping_dataset=backmapping_dataset,\n",
    "        n_frames=n_frames,\n",
    "        frame_index=frame_index,\n",
    "        selection=backmapping.config.get(\"selection\", \"protein\"),\n",
    "        folder=backmapping.config.get(\"output_folder\"),\n",
    "        atom_filter=atom_filter,\n",
    "        previous_u=backmapped_u,\n",
    "    )\n",
    "\n",
    "for tag in ['original_CG', 'final_CG', 'backmapped', 'true']:\n",
    "    joinPDBs(backmapping.config.get(\"output_folder\"), tag)\n",
    "\n",
    "df = None\n",
    "if len(rmsd_data) > 0:\n",
    "    df = pd.DataFrame.from_records(rmsd_data)"
   ]
  },
  {
   "cell_type": "code",
   "execution_count": null,
   "metadata": {},
   "outputs": [],
   "source": [
    "from simtk import openmm\n",
    "import os\n",
    "print(os.path.dirname(openmm.version.openmm_library_path), openmm.version.openmm_library_path)"
   ]
  },
  {
   "cell_type": "code",
   "execution_count": null,
   "metadata": {},
   "outputs": [],
   "source": [
    "import nglview as nv\n",
    "w = nv.show_mdanalysis(backmapped_u)\n",
    "w._remove_representation()\n",
    "w.add_representation('cartoon', selection='protein', color='blue')\n",
    "w.add_representation('licorice', selection='all')\n",
    "w"
   ]
  },
  {
   "cell_type": "code",
   "execution_count": 5,
   "metadata": {},
   "outputs": [],
   "source": [
    "import numpy as np\n",
    "positions = np.array([[1.,0.,0], [0.,2.,0.], [1.,1.,0.], [2., 2., 0.]])\n",
    "\n",
    "distance_vectors = positions[None, ...] - positions[:, None]\n",
    "\n",
    "_idx_i, _idx_j = [], []\n",
    "dist = np.linalg.norm(distance_vectors, axis=-1)\n",
    "for i in range(0, len(dist)):\n",
    "    for j in range(i+1, len(dist)):\n",
    "        _idx_i.append(i)\n",
    "        _idx_j.append(j)\n",
    "        _idx_j.append(i)\n",
    "        _idx_i.append(j)\n",
    "_idx_i = np.array(_idx_i)\n",
    "_idx_j = np.array(_idx_j)\n",
    "\n",
    "offset = np.zeros(len(positions, 3), dtype=np.float32)"
   ]
  },
  {
   "cell_type": "code",
   "execution_count": 17,
   "metadata": {},
   "outputs": [],
   "source": []
  },
  {
   "cell_type": "code",
   "execution_count": 18,
   "metadata": {},
   "outputs": [
    {
     "data": {
      "text/plain": [
       "array([0, 1, 0, 2, 0, 3, 1, 2, 1, 3, 2, 3])"
      ]
     },
     "execution_count": 18,
     "metadata": {},
     "output_type": "execute_result"
    }
   ],
   "source": [
    "_idx_i"
   ]
  },
  {
   "cell_type": "code",
   "execution_count": 19,
   "metadata": {},
   "outputs": [
    {
     "data": {
      "text/plain": [
       "array([1, 0, 2, 0, 3, 0, 2, 1, 3, 1, 3, 2])"
      ]
     },
     "execution_count": 19,
     "metadata": {},
     "output_type": "execute_result"
    }
   ],
   "source": [
    "_idx_j"
   ]
  },
  {
   "cell_type": "code",
   "execution_count": null,
   "metadata": {},
   "outputs": [],
   "source": []
  }
 ],
 "metadata": {
  "kernelspec": {
   "display_name": "prostat",
   "language": "python",
   "name": "python3"
  },
  "language_info": {
   "codemirror_mode": {
    "name": "ipython",
    "version": 3
   },
   "file_extension": ".py",
   "mimetype": "text/x-python",
   "name": "python",
   "nbconvert_exporter": "python",
   "pygments_lexer": "ipython3",
   "version": "3.10.12"
  },
  "orig_nbformat": 4,
  "vscode": {
   "interpreter": {
    "hash": "e83e13eb7a5ae82a8aeb1528983d49f46d4932259c63802e14669f17a5fcf04a"
   }
  }
 },
 "nbformat": 4,
 "nbformat_minor": 2
}
