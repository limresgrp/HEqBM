{
 "cells": [
  {
   "cell_type": "code",
   "execution_count": null,
   "metadata": {},
   "outputs": [],
   "source": [
    "%reload_ext autoreload\n",
    "%autoreload 2"
   ]
  },
  {
   "cell_type": "code",
   "execution_count": null,
   "metadata": {},
   "outputs": [],
   "source": [
    "import os\n",
    "import glob\n",
    "import torch\n",
    "import numpy as np\n",
    "import pandas as pd\n",
    "\n",
    "from heqbm.utils import DataDict\n",
    "from heqbm.utils.geometry import get_RMSD, get_dih_loss\n",
    "from heqbm.utils.hierarchical_backmapping import HierarchicalBackmapping\n",
    "\n",
    "torch.set_default_dtype(torch.float32)"
   ]
  },
  {
   "cell_type": "code",
   "execution_count": null,
   "metadata": {},
   "outputs": [],
   "source": [
    "backmapping = HierarchicalBackmapping(config_filename=\"config/backmapping/A2A-protein.yaml\")"
   ]
  },
  {
   "cell_type": "code",
   "execution_count": null,
   "metadata": {},
   "outputs": [],
   "source": [
    "for k,v in backmapping.mapping.dataset.items():\n",
    "    print(k, v.shape if isinstance(v, np.ndarray) else len(v))"
   ]
  },
  {
   "cell_type": "code",
   "execution_count": null,
   "metadata": {},
   "outputs": [],
   "source": [
    "n_frames = 1\n",
    "\n",
    "rmsd_data = []\n",
    "backmapped_u = None\n",
    "for frame_index in range(0, n_frames):\n",
    "    backmapping_dataset = backmapping.backmap(frame_index=frame_index, backmap_backbone=True)\n",
    "\n",
    "    try:\n",
    "        # Show prediction errors, if ground truth is present #\n",
    "        data = {}\n",
    "        if DataDict.ATOM_POSITION in backmapping_dataset:\n",
    "            fltr_all = np.array([an.split('_')[1] not in [] for an in backmapping_dataset[DataDict.ATOM_NAMES]])\n",
    "            fltr_bb = np.array([an.split('_')[1] in [\"CA\", \"O\", \"C\", \"N\"] for an in backmapping_dataset[DataDict.ATOM_NAMES]])\n",
    "            data.update({\n",
    "                \"frame\": frame_index,\n",
    "                \"RMSD All\": get_RMSD(backmapping_dataset[DataDict.ATOM_POSITION_PRED], backmapping_dataset[DataDict.ATOM_POSITION], fltr=fltr_all),\n",
    "                \"RMSD BB\": get_RMSD(backmapping_dataset[DataDict.ATOM_POSITION_PRED], backmapping_dataset[DataDict.ATOM_POSITION], fltr=fltr_bb),\n",
    "            })\n",
    "        if DataDict.BB_PHIPSI in backmapping_dataset:\n",
    "            data.update({\n",
    "                \"Dih Loss\": get_dih_loss(backmapping_dataset[DataDict.BB_PHIPSI_PRED], backmapping_dataset[DataDict.BB_PHIPSI], ignore_zeroes=True),\n",
    "            })\n",
    "        rmsd_data.append(data)\n",
    "    except:\n",
    "        pass\n",
    "\n",
    "    atom_filter = None # np.array([an in [\"CA\", \"C\", \"O\", \"N\"] for an in atomnames])\n",
    "    backmapped_u = backmapping.to_pdb(\n",
    "        backmapping_dataset=backmapping_dataset,\n",
    "        n_frames=n_frames,\n",
    "        frame_index=frame_index,\n",
    "        selection=backmapping.config.get(\"selection\", \"protein\"),\n",
    "        folder=backmapping.config.get(\"output_folder\"),\n",
    "        atom_filter=atom_filter,\n",
    "        previous_u=backmapped_u,\n",
    "    )\n",
    "\n",
    "def join_pdb(data_dir, tag):\n",
    "    i = 1\n",
    "    files_iterator = glob.glob(f'{data_dir}/**{tag}_*.pdb', recursive=True)\n",
    "    if len(files_iterator) == 0:\n",
    "        return\n",
    "    with open(os.path.join(data_dir, f'multi_{tag}.pdb'), \"w\") as f_out:\n",
    "        for filename in files_iterator:\n",
    "            f_out.write(f\"MODEL     {i}\\n\")\n",
    "            with open(filename, \"r\") as f_in:\n",
    "                txt = f_in.read()\n",
    "                txt = txt.replace(\"\\nEND\\n\", \"\\n\")\n",
    "                f_out.write(txt)\n",
    "            f_out.write(f\"ENDMDL\\n\")\n",
    "            i += 1\n",
    "            os.remove(filename)\n",
    "        f_out.write(f\"END\\n\")\n",
    "\n",
    "for tag in ['original_CG', 'final_CG', 'backmapped', 'true']:\n",
    "    join_pdb(backmapping.config.get(\"output_folder\"), tag)\n",
    "\n",
    "df = None\n",
    "if len(rmsd_data) > 0:\n",
    "    df = pd.DataFrame.from_records(rmsd_data)"
   ]
  },
  {
   "cell_type": "code",
   "execution_count": null,
   "metadata": {},
   "outputs": [],
   "source": [
    "df"
   ]
  },
  {
   "cell_type": "code",
   "execution_count": null,
   "metadata": {},
   "outputs": [],
   "source": [
    "import nglview as nv\n",
    "w = nv.show_mdanalysis(backmapped_u)\n",
    "w._remove_representation()\n",
    "w.add_representation('cartoon', selection='protein', color='blue')\n",
    "w.add_representation('licorice', selection='all')\n",
    "w"
   ]
  },
  {
   "cell_type": "markdown",
   "metadata": {},
   "source": [
    "Analyse Chi Dihedral angles"
   ]
  },
  {
   "cell_type": "code",
   "execution_count": null,
   "metadata": {},
   "outputs": [],
   "source": [
    "import MDAnalysis as mda\n",
    "from MDAnalysis.analysis.dihedrals import Janin"
   ]
  },
  {
   "cell_type": "code",
   "execution_count": null,
   "metadata": {},
   "outputs": [],
   "source": [
    "u = mda.Universe('backmapped/CRF1R/atomistic/protein/multi_true.pdb')\n",
    "protein = u.select_atoms(f'protein and resname ARG ASN ASP GLN GLU HIE HID HIS ILE LEU LYS MET TRP TYR')\n",
    "janin = Janin(protein).run()\n",
    "janin.plot(ref=True, marker='.', color='black')"
   ]
  },
  {
   "cell_type": "code",
   "execution_count": null,
   "metadata": {},
   "outputs": [],
   "source": [
    "u = mda.Universe('backmapped/CRF1R/atomistic/protein/multi_backmapped.pdb')\n",
    "protein = u.select_atoms(f'protein and resname ARG ASN ASP GLN GLU HIE HID HIS ILE LEU LYS MET TRP TYR')\n",
    "janin = Janin(protein).run()\n",
    "janin.plot(ref=True, marker='.', color='black')"
   ]
  },
  {
   "cell_type": "code",
   "execution_count": null,
   "metadata": {},
   "outputs": [],
   "source": [
    "u = mda.Universe('output1.pdb')\n",
    "protein = u.select_atoms(f'protein and resname ARG ASN ASP GLN GLU HIE HID HIS ILE LEU LYS MET TRP TYR')\n",
    "janin = Janin(protein).run()\n",
    "janin.plot(ref=True, marker='.', color='black')"
   ]
  },
  {
   "cell_type": "code",
   "execution_count": null,
   "metadata": {},
   "outputs": [],
   "source": [
    "u = mda.Universe('output2.pdb')\n",
    "protein = u.select_atoms(f'protein and resname ARG ASN ASP GLN GLU HIE HID HIS ILE LEU LYS MET TRP TYR')\n",
    "janin = Janin(protein).run()\n",
    "janin.plot(ref=True, marker='.', color='black')"
   ]
  },
  {
   "cell_type": "code",
   "execution_count": null,
   "metadata": {},
   "outputs": [],
   "source": [
    "# from matplotlib import pyplot as plt\n",
    "\n",
    "# resnames = [\n",
    "#     'ARG', 'ASN',\n",
    "#     'ASP', 'GLN',\n",
    "#     'GLU', 'HIE',\n",
    "#     'HID', 'HIS',\n",
    "#     'ILE', 'LEU',\n",
    "#     'LYS', 'MET',\n",
    "#     'TRP', 'TYR',\n",
    "# ]\n",
    "\n",
    "# u_pred = mda.Universe('backmapped/A2A/atomistic/protein/multi_backmapped.pdb')\n",
    "# u_true = mda.Universe('backmapped/A2A/atomistic/protein/multi_true.pdb')\n",
    "\n",
    "# fig, axs = plt.subplots(14, 2, figsize=(16, 8*14))\n",
    "\n",
    "# for resname, (ax_pred, ax_true) in zip(resnames, axs):\n",
    "#     residue_pred = u_pred.select_atoms(f'protein and resname {resname}')\n",
    "#     janin_pred = Janin(residue_pred).run()\n",
    "#     janin_pred.plot(ax=ax_pred, ref=True, marker='.', color='red', )\n",
    "#     ax_pred.title.set_text(resname)\n",
    "\n",
    "#     residue_true = u_true.select_atoms(f'protein and resname {resname}')\n",
    "#     janin_true = Janin(residue_true).run()\n",
    "#     janin_true.plot(ax=ax_true, ref=True, marker='.', color='black')\n",
    "#     ax_true.title.set_text(resname)"
   ]
  },
  {
   "cell_type": "code",
   "execution_count": null,
   "metadata": {},
   "outputs": [],
   "source": []
  }
 ],
 "metadata": {
  "kernelspec": {
   "display_name": "prostat",
   "language": "python",
   "name": "python3"
  },
  "language_info": {
   "codemirror_mode": {
    "name": "ipython",
    "version": 3
   },
   "file_extension": ".py",
   "mimetype": "text/x-python",
   "name": "python",
   "nbconvert_exporter": "python",
   "pygments_lexer": "ipython3",
   "version": "3.10.12"
  },
  "orig_nbformat": 4,
  "vscode": {
   "interpreter": {
    "hash": "e83e13eb7a5ae82a8aeb1528983d49f46d4932259c63802e14669f17a5fcf04a"
   }
  }
 },
 "nbformat": 4,
 "nbformat_minor": 2
}
