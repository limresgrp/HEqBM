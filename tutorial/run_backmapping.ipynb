{
 "cells": [
  {
   "cell_type": "code",
   "execution_count": null,
   "metadata": {},
   "outputs": [],
   "source": [
    "%reload_ext autoreload\n",
    "%autoreload 2"
   ]
  },
  {
   "cell_type": "markdown",
   "metadata": {},
   "source": [
    "# Backmapping #"
   ]
  },
  {
   "cell_type": "markdown",
   "metadata": {},
   "source": [
    "### HEqBM overview ###"
   ]
  },
  {
   "cell_type": "markdown",
   "metadata": {},
   "source": [
    "<img src=\"../wf.PNG\" alt=\"Drawing\" style=\"width: 800px;\"/>"
   ]
  },
  {
   "cell_type": "markdown",
   "metadata": {},
   "source": [
    "### Hierarchical backmapping ###"
   ]
  },
  {
   "cell_type": "markdown",
   "metadata": {},
   "source": [
    "<img src=\"../hbm.PNG\" alt=\"Drawing\" style=\"width: 800px;\"/>"
   ]
  },
  {
   "cell_type": "markdown",
   "metadata": {},
   "source": [
    "### Backbone optimisation algorithm ###"
   ]
  },
  {
   "cell_type": "markdown",
   "metadata": {},
   "source": [
    "<img src=\"../bbopt.PNG\" alt=\"Drawing\" style=\"width: 800px;\"/>"
   ]
  },
  {
   "cell_type": "code",
   "execution_count": null,
   "metadata": {},
   "outputs": [],
   "source": [
    "import warnings\n",
    "warnings.filterwarnings('ignore')\n",
    "\n",
    "import nglview as nv\n",
    "from heqbm.backmapping.hierarchical_backmapping import backmap"
   ]
  },
  {
   "cell_type": "code",
   "execution_count": null,
   "metadata": {},
   "outputs": [],
   "source": [
    "CONFIG_FILENAME = \"../config/backmapping/A2A-CG.yaml\"\n",
    "\n",
    "CG_u, backmapped_u, bb_minimisation_u_list = backmap(config_filename=CONFIG_FILENAME, frame_selection=slice(0, 1))"
   ]
  },
  {
   "cell_type": "markdown",
   "metadata": {},
   "source": [
    "### Show structures ###"
   ]
  },
  {
   "cell_type": "code",
   "execution_count": null,
   "metadata": {},
   "outputs": [],
   "source": [
    "w = nv.show_mdanalysis(CG_u)\n",
    "w._remove_representation()\n",
    "w.add_representation('spacefill', selection='all')\n",
    "w"
   ]
  },
  {
   "cell_type": "code",
   "execution_count": null,
   "metadata": {},
   "outputs": [],
   "source": [
    "PDB_STRUCTURE_BACKMAPPED = \"backmapped/A2A/CG/backmapped_fixed_0.pdb\"\n",
    "\n",
    "w = nv.show_file(PDB_STRUCTURE_BACKMAPPED)\n",
    "w._remove_representation()\n",
    "w.add_representation('cartoon', selection='protein', color='orange')\n",
    "w.add_representation('licorice', selection='protein')\n",
    "w"
   ]
  },
  {
   "cell_type": "markdown",
   "metadata": {},
   "source": [
    "# Minimisation #"
   ]
  },
  {
   "cell_type": "code",
   "execution_count": null,
   "metadata": {},
   "outputs": [],
   "source": [
    "from heqbm.utils.minimisation import minimise\n",
    "\n",
    "PDB_STRUCTURE_MINIMISED = \"backmapped/A2A/CG/minimised/backmapped_fixed_0.pdb\"\n",
    "\n",
    "minimise(\n",
    "    PDB_STRUCTURE_BACKMAPPED,\n",
    "    PDB_STRUCTURE_MINIMISED,\n",
    "    tolerance=50, # Kj/(mol nm)\n",
    ")"
   ]
  },
  {
   "cell_type": "code",
   "execution_count": null,
   "metadata": {},
   "outputs": [],
   "source": [
    "w = nv.show_file(PDB_STRUCTURE_MINIMISED)\n",
    "w._remove_representation()\n",
    "w.add_representation('cartoon', selection='protein', color='red')\n",
    "w.add_representation('licorice', selection='protein')\n",
    "w"
   ]
  },
  {
   "cell_type": "markdown",
   "metadata": {},
   "source": [
    "# Analysis #"
   ]
  },
  {
   "cell_type": "code",
   "execution_count": null,
   "metadata": {},
   "outputs": [],
   "source": [
    "from heqbm.utils.analysis import analyse_torsions\n",
    "\n",
    "fig_rama, fig_janin = analyse_torsions(target=PDB_STRUCTURE_MINIMISED)\n",
    "# fig_rama.savefig(\"rama.svg\")\n",
    "# fig_janin.savefig(\"janin.svg\")"
   ]
  }
 ],
 "metadata": {
  "kernelspec": {
   "display_name": "prostat",
   "language": "python",
   "name": "python3"
  },
  "language_info": {
   "codemirror_mode": {
    "name": "ipython",
    "version": 3
   },
   "file_extension": ".py",
   "mimetype": "text/x-python",
   "name": "python",
   "nbconvert_exporter": "python",
   "pygments_lexer": "ipython3",
   "version": "3.10.12"
  },
  "orig_nbformat": 4,
  "vscode": {
   "interpreter": {
    "hash": "e83e13eb7a5ae82a8aeb1528983d49f46d4932259c63802e14669f17a5fcf04a"
   }
  }
 },
 "nbformat": 4,
 "nbformat_minor": 2
}
