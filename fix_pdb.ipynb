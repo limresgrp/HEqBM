{
 "cells": [
  {
   "cell_type": "code",
   "execution_count": 1,
   "metadata": {},
   "outputs": [],
   "source": [
    "import os\n",
    "import glob\n",
    "from os.path import dirname, basename\n",
    "from herobm.utils.pdbFixer import fixPDB\n",
    "from openmm.app import PDBFile"
   ]
  },
  {
   "cell_type": "code",
   "execution_count": 2,
   "metadata": {},
   "outputs": [],
   "source": [
    "PDB_FOLDER = \"/storage_common/angiod/RCSB/\"\n",
    "PDB_REGEX = \"**/October*.pdb\"\n",
    "\n",
    "for pdb_in_filename in [log for log in glob.glob(os.path.join(PDB_FOLDER, PDB_REGEX), recursive=True) if not basename(dirname(log)) == 'minimized']:\n",
    "    topology, positions = fixPDB(pdb_in_filename, addHydrogens=True)\n",
    "    pdb_folder = dirname(pdb_in_filename)\n",
    "    pdb_out_filename = os.path.join(\n",
    "            pdb_folder,\n",
    "            basename(pdb_in_filename).replace('-', '-FIXED-').replace('_', '_fixed_'),\n",
    "    )\n",
    "    PDBFile.writeFile(topology, positions, open(pdb_out_filename, 'w'), keepIds=False)"
   ]
  },
  {
   "cell_type": "code",
   "execution_count": null,
   "metadata": {},
   "outputs": [],
   "source": [
    "# import MDAnalysis as md\n",
    "\n",
    "# u = md.Universe(pdb_in_filename)\n",
    "# sel = u.select_atoms('protein')\n",
    "# for r in sel.residues:\n",
    "#     r.resid -= 1\n",
    "# sel.write('asd.pdb')"
   ]
  }
 ],
 "metadata": {
  "kernelspec": {
   "display_name": "herobm",
   "language": "python",
   "name": "python3"
  },
  "language_info": {
   "codemirror_mode": {
    "name": "ipython",
    "version": 3
   },
   "file_extension": ".py",
   "mimetype": "text/x-python",
   "name": "python",
   "nbconvert_exporter": "python",
   "pygments_lexer": "ipython3",
   "version": "3.10.12"
  },
  "orig_nbformat": 4
 },
 "nbformat": 4,
 "nbformat_minor": 2
}
