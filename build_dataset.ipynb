{
 "cells": [
  {
   "attachments": {},
   "cell_type": "markdown",
   "metadata": {},
   "source": [
    "# HEqBM Build Training Dataset #"
   ]
  },
  {
   "cell_type": "code",
   "execution_count": null,
   "metadata": {},
   "outputs": [],
   "source": [
    "%reload_ext autoreload\n",
    "%autoreload 2"
   ]
  },
  {
   "cell_type": "code",
   "execution_count": null,
   "metadata": {},
   "outputs": [],
   "source": [
    "import os\n",
    "import numpy as np\n",
    "\n",
    "from os.path import dirname\n",
    "from build_dataset import build_npz_dataset"
   ]
  },
  {
   "cell_type": "code",
   "execution_count": null,
   "metadata": {},
   "outputs": [],
   "source": [
    "YOUR_PATH_TO_DATA_FOLDER = \"/storage_common/angiod/\"\n",
    "\n",
    "config_dict = {\n",
    "    \"A2A.martini3.train\": {\n",
    "        \"mapping\": \"martini3\",\n",
    "        \"input\": os.path.join(YOUR_PATH_TO_DATA_FOLDER, \"A2A/tpr/\"),\n",
    "        \"inputformat\": \"tpr\",\n",
    "        \"traj_folder_in\": os.path.join(YOUR_PATH_TO_DATA_FOLDER, \"A2A/trr\"),\n",
    "        \"traj_format\": \"trr\",\n",
    "        \"selection\": \"protein\",\n",
    "        \"trajslice\": \":50\",\n",
    "        \"output\": os.path.join(YOUR_PATH_TO_DATA_FOLDER, \"A2A/backmapping/npz/martini3/train/\"),\n",
    "    },\n",
    "    \"PDB6K.CA.train\": {\n",
    "        \"mapping\": \"ca\",\n",
    "        \"input\": os.path.join(YOUR_PATH_TO_DATA_FOLDER, \"PDB6K/pdb.6k/augment\"),\n",
    "        \"filter\": os.path.join(YOUR_PATH_TO_DATA_FOLDER, \"PDB6K/set/targets.train.pdb.2.9k\"),\n",
    "        \"inputformat\": \"pdb\",\n",
    "        \"selection\": \"protein\",\n",
    "        \"output\": os.path.join(YOUR_PATH_TO_DATA_FOLDER, \"PDB6K/backmapping/npz/ca.2.9k/train\"),\n",
    "    },\n",
    "    \"PED.CA.train\": {\n",
    "        \"mapping\": \"ca\",\n",
    "        \"input\": os.path.join(YOUR_PATH_TO_DATA_FOLDER, \"PED/pdb/train\"),\n",
    "        \"inputformat\": \"pdb\",\n",
    "        \"selection\": \"protein\",\n",
    "        \"trajslice\": \":1000\",\n",
    "        \"output\": os.path.join(YOUR_PATH_TO_DATA_FOLDER, \"PED/backmapping/npz/ca.train\"),\n",
    "    },\n",
    "    \"PED.CA.valid\": {\n",
    "        \"mapping\": \"ca\",\n",
    "        \"input\": os.path.join(YOUR_PATH_TO_DATA_FOLDER, \"PED/pdb/valid\"),\n",
    "        \"inputformat\": \"pdb\",\n",
    "        \"selection\": \"protein\",\n",
    "        \"output\": os.path.join(YOUR_PATH_TO_DATA_FOLDER, \"PED/backmapping/npz/ca.valid\"),\n",
    "    },\n",
    "}"
   ]
  },
  {
   "cell_type": "code",
   "execution_count": null,
   "metadata": {},
   "outputs": [],
   "source": [
    "system = \"PED.CA.train\""
   ]
  },
  {
   "cell_type": "code",
   "execution_count": null,
   "metadata": {},
   "outputs": [],
   "source": [
    "for npz_dataset, config in build_npz_dataset(config_dict.get(system), skip_if_existent=True):\n",
    "    if npz_dataset is not None:\n",
    "        os.makedirs(dirname(config[\"output\"]), exist_ok=True)\n",
    "        np.savez(config[\"output\"], **npz_dataset)"
   ]
  }
 ],
 "metadata": {
  "kernelspec": {
   "display_name": "prostat",
   "language": "python",
   "name": "python3"
  },
  "language_info": {
   "codemirror_mode": {
    "name": "ipython",
    "version": 3
   },
   "file_extension": ".py",
   "mimetype": "text/x-python",
   "name": "python",
   "nbconvert_exporter": "python",
   "pygments_lexer": "ipython3",
   "version": "3.10.12"
  },
  "orig_nbformat": 4,
  "vscode": {
   "interpreter": {
    "hash": "e83e13eb7a5ae82a8aeb1528983d49f46d4932259c63802e14669f17a5fcf04a"
   }
  }
 },
 "nbformat": 4,
 "nbformat_minor": 2
}
