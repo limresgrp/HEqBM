{
 "cells": [
  {
   "cell_type": "code",
   "execution_count": null,
   "metadata": {},
   "outputs": [],
   "source": [
    "####################### I M P O R T S ###############################\n",
    "\n",
    "import os\n",
    "from os.path import dirname, basename\n",
    "from openmm.app import *\n",
    "from openmm import *\n",
    "from openmm.unit import kelvin, nanometer, picoseconds\n",
    "from sys import stdout\n",
    "\n",
    "#####################################################################"
   ]
  },
  {
   "cell_type": "markdown",
   "metadata": {},
   "source": [
    "# Minimize Structure #"
   ]
  },
  {
   "cell_type": "code",
   "execution_count": null,
   "metadata": {},
   "outputs": [],
   "source": [
    "####################### C O N F I G #################################\n",
    "\n",
    "PDB_FILENAME = 'backmapped/A2A/atomistic/protein_from_miniG_model/backmapped_0.pdb'\n",
    "ADD_MEMBRANE = True\n",
    "SOLVATE = False\n",
    "\n",
    "#####################################################################\n",
    "\n",
    "pdb = PDBFile(PDB_FILENAME)\n",
    "forcefield = ForceField('amber14-all.xml', 'amber14/tip3pfb.xml', 'amber14/lipid17.xml')\n",
    "modeller = Modeller(pdb.topology, pdb.positions)\n",
    "modeller.addHydrogens(forcefield)\n",
    "system = forcefield.createSystem(modeller.topology, nonbondedMethod=PME,\n",
    "        nonbondedCutoff=1*nanometer, constraints=HBonds)\n",
    "integrator = LangevinMiddleIntegrator(300*kelvin, 1/picoseconds, 0.001*picoseconds)\n",
    "simulation = Simulation(modeller.topology, system, integrator)\n",
    "simulation.context.setPositions(modeller.positions)\n",
    "\n",
    "pdb_folder = dirname(PDB_FILENAME)\n",
    "minimized_pdb_folder = os.path.join(pdb_folder, 'minimized')\n",
    "os.makedirs(minimized_pdb_folder, exist_ok=True)\n",
    "\n",
    "print('Running Minimization...')\n",
    "simulation.minimizeEnergy(tolerance=1*unit.kilojoules_per_mole/nanometer, maxIterations=10000)\n",
    "\n",
    "positions = simulation.context.getState(getPositions=True).getPositions()\n",
    "\n",
    "print('Saving...')\n",
    "positions = simulation.context.getState(getPositions=True).getPositions()\n",
    "PDBFile.writeFile(simulation.topology, positions, open(os.path.join(minimized_pdb_folder, basename(PDB_FILENAME)), 'w'))\n",
    "print('Done')\n",
    "\n",
    "if ADD_MEMBRANE or SOLVATE:\n",
    "        modeller = Modeller(pdb.topology, positions)\n",
    "        if ADD_MEMBRANE:\n",
    "                print('Adding Membrane...')\n",
    "                modeller.addMembrane(forcefield, lipidType='POPC', membraneCenterZ=positions.mean().z)\n",
    "\n",
    "        if SOLVATE:\n",
    "                print('Solvating...')\n",
    "                modeller.addSolvent(forcefield)\n",
    "\n",
    "        system = forcefield.createSystem(modeller.topology, nonbondedMethod=PME,\n",
    "                nonbondedCutoff=1*nanometer, constraints=HBonds)\n",
    "        integrator = LangevinMiddleIntegrator(300*kelvin, 1/picoseconds, 0.001*picoseconds)\n",
    "        simulation = Simulation(modeller.topology, system, integrator)\n",
    "        simulation.context.setPositions(modeller.positions)\n",
    "\n",
    "        print('Saving...')\n",
    "        positions = simulation.context.getState(getPositions=True).getPositions()\n",
    "        PDBFile.writeFile(simulation.topology, positions,\n",
    "                open(\n",
    "                os.path.join(\n",
    "                        minimized_pdb_folder,\n",
    "                        f'{\"membrane-\" if ADD_MEMBRANE else \"\"}{\"solvated-\" if SOLVATE else \"\"}{basename(PDB_FILENAME)}'\n",
    "                ), 'w')\n",
    "        )\n",
    "        print('Done')"
   ]
  },
  {
   "cell_type": "markdown",
   "metadata": {},
   "source": [
    "# Run Simulation #"
   ]
  },
  {
   "cell_type": "code",
   "execution_count": null,
   "metadata": {},
   "outputs": [],
   "source": [
    "system = forcefield.createSystem(modeller.topology, nonbondedMethod=PME,\n",
    "        nonbondedCutoff=1*nanometer, constraints=HBonds)\n",
    "integrator = LangevinMiddleIntegrator(300*kelvin, 1/picoseconds, 0.001*picoseconds)\n",
    "simulation = Simulation(modeller.topology, system, integrator)\n",
    "simulation.context.setPositions(modeller.positions)\n",
    "\n",
    "simulation_pdb_folder = os.path.join(pdb_folder, 'simulation')\n",
    "os.makedirs(simulation_pdb_folder, exist_ok=True)\n",
    "\n",
    "simulation.reporters.append(PDBReporter(os.path.join(simulation_pdb_folder, basename(PDB_FILENAME)), 10000))\n",
    "simulation.reporters.append(\n",
    "    StateDataReporter(\n",
    "        stdout, 10000, step=True,potentialEnergy=True, temperature=True)\n",
    ")\n",
    "\n",
    "os.makedirs(os.path.join(simulation_pdb_folder), exist_ok=True)\n",
    "\n",
    "simulation.minimizeEnergy(tolerance=1*unit.kilojoules_per_mole/nanometer, maxIterations=10000)\n",
    "simulation.step(50000)"
   ]
  }
 ],
 "metadata": {
  "kernelspec": {
   "display_name": "heqbm",
   "language": "python",
   "name": "python3"
  },
  "language_info": {
   "codemirror_mode": {
    "name": "ipython",
    "version": 3
   },
   "file_extension": ".py",
   "mimetype": "text/x-python",
   "name": "python",
   "nbconvert_exporter": "python",
   "pygments_lexer": "ipython3",
   "version": "3.10.12"
  },
  "orig_nbformat": 4
 },
 "nbformat": 4,
 "nbformat_minor": 2
}
