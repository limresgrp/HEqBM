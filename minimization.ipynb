{
 "cells": [
  {
   "cell_type": "code",
   "execution_count": null,
   "metadata": {},
   "outputs": [],
   "source": [
    "import os\n",
    "from os.path import dirname, basename\n",
    "from openmm.app import *\n",
    "from openmm import *\n",
    "from openmm.unit import kelvin, nanometer, picoseconds\n",
    "from sys import stdout"
   ]
  },
  {
   "cell_type": "code",
   "execution_count": null,
   "metadata": {},
   "outputs": [],
   "source": [
    "PDB_FILENAME = 'backmapped/A2A/CG/protein/multi_backmapped.pdb'"
   ]
  },
  {
   "cell_type": "code",
   "execution_count": null,
   "metadata": {},
   "outputs": [],
   "source": [
    "pdb = PDBFile(PDB_FILENAME)\n",
    "forcefield = ForceField('amber14-all.xml', 'amber14/tip3pfb.xml')\n",
    "modeller = Modeller(pdb.topology, pdb.positions)\n",
    "modeller.addHydrogens(forcefield)\n",
    "system = forcefield.createSystem(modeller.topology, nonbondedMethod=PME,\n",
    "        nonbondedCutoff=1*nanometer, constraints=HBonds)\n",
    "integrator = LangevinMiddleIntegrator(300*kelvin, 1/picoseconds, 0.001*picoseconds)\n",
    "simulation = Simulation(modeller.topology, system, integrator)\n",
    "simulation.context.setPositions(modeller.positions)\n",
    "\n",
    "pdb_folder = dirname(PDB_FILENAME)\n",
    "minimized_pdb_folder = os.path.join(pdb_folder, 'minimized')\n",
    "os.makedirs(minimized_pdb_folder, exist_ok=True)\n",
    "\n",
    "print('Running Minimization...')\n",
    "simulation.minimizeEnergy(tolerance=1*unit.kilojoules_per_mole/nanometer, maxIterations=10000)\n",
    "\n",
    "positions = simulation.context.getState(getPositions=True).getPositions()\n",
    "\n",
    "print('Adding Membrane...')\n",
    "modeller.addMembrane(forcefield, membraneCenterZ=positions.mean().z)\n",
    "\n",
    "print('Solvating...')\n",
    "modeller.addSolvent(forcefield)\n",
    "\n",
    "system = forcefield.createSystem(modeller.topology, nonbondedMethod=PME,\n",
    "        nonbondedCutoff=1*nanometer, constraints=HBonds)\n",
    "integrator = LangevinMiddleIntegrator(300*kelvin, 1/picoseconds, 0.001*picoseconds)\n",
    "simulation = Simulation(modeller.topology, system, integrator)\n",
    "simulation.context.setPositions(modeller.positions)\n",
    "\n",
    "print('Saving...')\n",
    "positions = simulation.context.getState(getPositions=True).getPositions()\n",
    "PDBFile.writeFile(simulation.topology, positions, open(os.path.join(minimized_pdb_folder, basename(PDB_FILENAME)), 'w'))\n",
    "print('Done')"
   ]
  },
  {
   "cell_type": "code",
   "execution_count": null,
   "metadata": {},
   "outputs": [],
   "source": [
    "system = forcefield.createSystem(modeller.topology, nonbondedMethod=PME,\n",
    "        nonbondedCutoff=1*nanometer, constraints=HBonds)\n",
    "integrator = LangevinMiddleIntegrator(300*kelvin, 1/picoseconds, 0.001*picoseconds)\n",
    "simulation = Simulation(modeller.topology, system, integrator)\n",
    "simulation.context.setPositions(modeller.positions)\n",
    "\n",
    "simulation_pdb_folder = os.path.join(pdb_folder, 'simulation')\n",
    "os.makedirs(simulation_pdb_folder, exist_ok=True)\n",
    "\n",
    "simulation.reporters.append(PDBReporter(os.path.join(simulation_pdb_folder, basename(PDB_FILENAME)), 10000))\n",
    "simulation.reporters.append(\n",
    "    StateDataReporter(\n",
    "        stdout, 10000, step=True,potentialEnergy=True, temperature=True)\n",
    ")\n",
    "\n",
    "os.makedirs(os.path.join(simulation_pdb_folder), exist_ok=True)\n",
    "\n",
    "simulation.minimizeEnergy(tolerance=1*unit.kilojoules_per_mole/nanometer, maxIterations=10000)\n",
    "simulation.step(50000)"
   ]
  },
  {
   "cell_type": "code",
   "execution_count": null,
   "metadata": {},
   "outputs": [],
   "source": []
  }
 ],
 "metadata": {
  "kernelspec": {
   "display_name": "heqbm",
   "language": "python",
   "name": "python3"
  },
  "language_info": {
   "codemirror_mode": {
    "name": "ipython",
    "version": 3
   },
   "file_extension": ".py",
   "mimetype": "text/x-python",
   "name": "python",
   "nbconvert_exporter": "python",
   "pygments_lexer": "ipython3",
   "version": "3.10.12"
  },
  "orig_nbformat": 4
 },
 "nbformat": 4,
 "nbformat_minor": 2
}
