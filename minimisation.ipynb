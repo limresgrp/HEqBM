{
 "cells": [
  {
   "cell_type": "code",
   "execution_count": null,
   "metadata": {},
   "outputs": [],
   "source": [
    "####################### I M P O R T S ###############################\n",
    "\n",
    "import os\n",
    "import glob\n",
    "import numpy as np\n",
    "from os.path import dirname, basename\n",
    "from openmm.app import *\n",
    "from openmm import *\n",
    "from openmm.unit import kelvin, nanometer, picoseconds\n",
    "from sys import stdout\n",
    "from heqbm.utils.minimisation import minimise\n",
    "\n",
    "#####################################################################"
   ]
  },
  {
   "cell_type": "markdown",
   "metadata": {},
   "source": [
    "# Minimise Structure #\n",
    "\n",
    "If there are problems, run 'openmm-setup'"
   ]
  },
  {
   "cell_type": "code",
   "execution_count": null,
   "metadata": {},
   "outputs": [],
   "source": [
    "####################### C O N F I G #################################\n",
    "\n",
    "PDB_FOLDER = \"backmapped/Vince/martini3/\" # \"comparison/heqbm/\" # \"backmapped/CG-all/protein-whole/\"\n",
    "PDB_REGEX = \"**/backmapped_fixed_*.pdb\" # \"**/4_final_de_novo*.pdb\"\n",
    "TOLERANCE = 50 # kilojoules_per_mole/nanometer\n",
    "FOLDER_NAME = \"minimised\"\n",
    "ADD_MEMBRANE = False\n",
    "SOLVATE = False\n",
    "RESTRAIN_ATOMS = ['N', 'CA', 'C', 'O']\n",
    "\n",
    "#####################################################################\n",
    "\n",
    "\n",
    "\n",
    "for pdb_in_filename in [log for log in glob.glob(os.path.join(PDB_FOLDER, PDB_REGEX), recursive=True) if not basename(dirname(log)) == 'minimized']:\n",
    "        pdb_folder = dirname(pdb_in_filename)\n",
    "        minimised_pdb_folder = os.path.join(pdb_folder, FOLDER_NAME)\n",
    "        os.makedirs(minimised_pdb_folder, exist_ok=True)\n",
    "        pdb_out_filename = os.path.join(\n",
    "                minimised_pdb_folder,\n",
    "                basename(pdb_in_filename),\n",
    "        )\n",
    "        if os.path.isfile(pdb_out_filename):\n",
    "                continue\n",
    "        minimise(pdb_in_filename, pdb_out_filename)"
   ]
  },
  {
   "cell_type": "code",
   "execution_count": null,
   "metadata": {},
   "outputs": [],
   "source": [
    "from heqbm.utils.pdbFixer import fixPDB, joinPDBs\n",
    "joinPDBs(os.path.join(PDB_FOLDER, 'martini3_bbcommon/minimised'), 'backmapped')"
   ]
  },
  {
   "cell_type": "markdown",
   "metadata": {},
   "source": [
    "# Run Simulation #"
   ]
  },
  {
   "cell_type": "code",
   "execution_count": null,
   "metadata": {},
   "outputs": [],
   "source": [
    "for filename in glob.glob(os.path.join(PDB_FOLDER, f\"backmapped_*.pdb\")):\n",
    "        pdb = PDBFile(pdb_in_filename)\n",
    "        forcefield = ForceField('amber14-all.xml')\n",
    "        system = forcefield.createSystem(pdb.topology, nonbondedMethod=PME,\n",
    "                nonbondedCutoff=1*nanometer, constraints=HBonds)\n",
    "        while system.getNumForces() > 0:\n",
    "                system.removeForce(0)\n",
    "        while system.getNumConstraints() > 0:\n",
    "                system.removeConstraint(0)\n",
    "        \n",
    "        assert system.getNumConstraints() == 0\n",
    "        assert system.getNumForces() == 0\n",
    "        integrator = VerletIntegrator(0.001*picoseconds)\n",
    "        simulation = Simulation(pdb.topology, system, integrator)\n",
    "        simulation.context.setPositions(pdb.positions)\n",
    "\n",
    "        simulation_pdb_folder = os.path.join(PDB_FOLDER, 'simulation')\n",
    "        os.makedirs(simulation_pdb_folder, exist_ok=True)\n",
    "\n",
    "        simulation.reporters.append(PDBReporter(os.path.join(simulation_pdb_folder, basename(filename)), 10000))\n",
    "        simulation.reporters.append(\n",
    "        StateDataReporter(\n",
    "                stdout, 10000, step=True,potentialEnergy=True, temperature=True)\n",
    "        )\n",
    "\n",
    "        os.makedirs(os.path.join(simulation_pdb_folder), exist_ok=True)\n",
    "\n",
    "        simulation.minimiseEnergy(tolerance=TOLERANCE*unit.kilojoules_per_mole/nanometer, maxIterations=10000)\n",
    "        simulation.step(500000)\n",
    "        break"
   ]
  }
 ],
 "metadata": {
  "kernelspec": {
   "display_name": "heqbm",
   "language": "python",
   "name": "python3"
  },
  "language_info": {
   "codemirror_mode": {
    "name": "ipython",
    "version": 3
   },
   "file_extension": ".py",
   "mimetype": "text/x-python",
   "name": "python",
   "nbconvert_exporter": "python",
   "pygments_lexer": "ipython3",
   "version": "3.10.12"
  },
  "orig_nbformat": 4
 },
 "nbformat": 4,
 "nbformat_minor": 2
}
